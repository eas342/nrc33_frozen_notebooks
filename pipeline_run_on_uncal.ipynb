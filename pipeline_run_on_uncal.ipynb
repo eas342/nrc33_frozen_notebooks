{
 "cells": [
  {
   "cell_type": "markdown",
   "id": "b42e5f8d",
   "metadata": {},
   "source": [
    "# Pipeline Notebook Run"
   ]
  },
  {
   "cell_type": "code",
   "execution_count": 1,
   "id": "00cd8f0d",
   "metadata": {},
   "outputs": [
    {
     "name": "stderr",
     "output_type": "stream",
     "text": [
      "2021-07-26 16:11:43,865 - stpipe - WARNING - /Users/everettschlawin/anaconda/envs/jwst_py3p9p5/lib/python3.9/site-packages/photutils/detection/findstars.py:33: AstropyDeprecationWarning: _StarFinderKernel was moved to the photutils.detection._utils module. Please update your import statement.\n",
      "  warnings.warn(f'{name} was moved to the {deprecated[name]} module. '\n",
      "\n"
     ]
    }
   ],
   "source": [
    "from astropy.io import fits, ascii\n",
    "from jwst.pipeline.calwebb_detector1 import Detector1Pipeline\n",
    "from jwst.pipeline.calwebb_spec2 import Spec2Pipeline\n",
    "import sys\n",
    "import os\n",
    "import glob\n",
    "import numpy as np\n",
    "import warnings"
   ]
  },
  {
   "cell_type": "markdown",
   "id": "28451efe",
   "metadata": {},
   "source": [
    "<div class='alert alert-info'>\n",
    "    <font size='3'><b>These cells contain instructions. Edit the paths below.</b></font>\n",
    "</div>"
   ]
  },
  {
   "cell_type": "code",
   "execution_count": 2,
   "id": "784b4ed1",
   "metadata": {},
   "outputs": [],
   "source": [
    "file_path = 'ex_data/*uncal.fits'\n",
    "out_path = 'ex_proc_data/'"
   ]
  },
  {
   "cell_type": "markdown",
   "id": "c082bdc0",
   "metadata": {},
   "source": [
    "Find the files"
   ]
  },
  {
   "cell_type": "code",
   "execution_count": 3,
   "id": "d1a2ea9e",
   "metadata": {},
   "outputs": [
    {
     "name": "stdout",
     "output_type": "stream",
     "text": [
      "1\n"
     ]
    }
   ],
   "source": [
    "uncal_list = glob.glob(file_path)\n",
    "n_uncal = len(uncal_list)\n",
    "print(n_uncal)"
   ]
  },
  {
   "cell_type": "markdown",
   "id": "ef7f324a",
   "metadata": {},
   "source": [
    "Make sure NOUTPUTS exists. If not, set it to 4"
   ]
  },
  {
   "cell_type": "code",
   "execution_count": 4,
   "id": "49499d4e",
   "metadata": {},
   "outputs": [],
   "source": [
    "for one_file in uncal_list:\n",
    "    head = fits.getheader(one_file)\n",
    "    if 'NOUTPUTS' in head:\n",
    "        pass\n",
    "    else:\n",
    "        print(\"Missing NOUTPUTS for {}, setting to 4\".format(one_file))\n",
    "        with fits.open(one_file,mode='update') as HDUList:\n",
    "            HDUList[0].header['NOUTPUTS'] = (4, 'number of output amplifiers')"
   ]
  },
  {
   "cell_type": "markdown",
   "id": "674b1cd6",
   "metadata": {},
   "source": [
    "Set up stage 1"
   ]
  },
  {
   "cell_type": "code",
   "execution_count": 5,
   "id": "a9a83870",
   "metadata": {},
   "outputs": [
    {
     "name": "stderr",
     "output_type": "stream",
     "text": [
      "2021-07-26 16:11:43,939 - stpipe.Detector1Pipeline - INFO - Detector1Pipeline instance created.\n",
      "2021-07-26 16:11:43,940 - stpipe.Detector1Pipeline.group_scale - INFO - GroupScaleStep instance created.\n",
      "2021-07-26 16:11:43,942 - stpipe.Detector1Pipeline.dq_init - INFO - DQInitStep instance created.\n",
      "2021-07-26 16:11:43,944 - stpipe.Detector1Pipeline.saturation - INFO - SaturationStep instance created.\n",
      "2021-07-26 16:11:43,945 - stpipe.Detector1Pipeline.ipc - INFO - IPCStep instance created.\n",
      "2021-07-26 16:11:43,947 - stpipe.Detector1Pipeline.superbias - INFO - SuperBiasStep instance created.\n",
      "2021-07-26 16:11:43,948 - stpipe.Detector1Pipeline.refpix - INFO - RefPixStep instance created.\n",
      "2021-07-26 16:11:43,950 - stpipe.Detector1Pipeline.rscd - INFO - RscdStep instance created.\n",
      "2021-07-26 16:11:43,951 - stpipe.Detector1Pipeline.firstframe - INFO - FirstFrameStep instance created.\n",
      "2021-07-26 16:11:43,952 - stpipe.Detector1Pipeline.lastframe - INFO - LastFrameStep instance created.\n",
      "2021-07-26 16:11:43,955 - stpipe.Detector1Pipeline.linearity - INFO - LinearityStep instance created.\n",
      "2021-07-26 16:11:43,957 - stpipe.Detector1Pipeline.dark_current - INFO - DarkCurrentStep instance created.\n",
      "2021-07-26 16:11:43,958 - stpipe.Detector1Pipeline.reset - INFO - ResetStep instance created.\n",
      "2021-07-26 16:11:43,960 - stpipe.Detector1Pipeline.persistence - INFO - PersistenceStep instance created.\n",
      "2021-07-26 16:11:43,962 - stpipe.Detector1Pipeline.jump - INFO - JumpStep instance created.\n",
      "2021-07-26 16:11:43,964 - stpipe.Detector1Pipeline.ramp_fit - INFO - RampFitStep instance created.\n",
      "2021-07-26 16:11:43,965 - stpipe.Detector1Pipeline.gain_scale - INFO - GainScaleStep instance created.\n"
     ]
    }
   ],
   "source": [
    "pipeline = Detector1Pipeline()\n",
    "\n",
    "\n",
    "# Default is to skip the persistence and IPC correction\n",
    "# Make that explicit here\n",
    "pipeline.persistence.skip = True\n",
    "pipeline.ipc.skip = True\n",
    "\n",
    "# Specify that you want results saved to a file\n",
    "pipeline.save_results = True\n",
    "\n",
    "\n",
    "if os.path.exists(out_path) == False:\n",
    "    os.mkdir(out_path)\n",
    "pipeline.output_dir = out_path\n"
   ]
  },
  {
   "cell_type": "markdown",
   "id": "db917f9e",
   "metadata": {},
   "source": [
    "<div class='alert alert-info'>\n",
    "    <font size='3'><b>Change the rejection threshold if needed.</b></font>\n",
    "</div>"
   ]
  },
  {
   "cell_type": "code",
   "execution_count": 6,
   "id": "a1ed2de6",
   "metadata": {},
   "outputs": [],
   "source": [
    "pipeline.jump.rejection_threshold = 15"
   ]
  },
  {
   "cell_type": "markdown",
   "id": "8588019a",
   "metadata": {},
   "source": [
    "Run stage 1"
   ]
  },
  {
   "cell_type": "code",
   "execution_count": 7,
   "id": "8c18b0ed",
   "metadata": {},
   "outputs": [
    {
     "name": "stderr",
     "output_type": "stream",
     "text": [
      "2021-07-26 16:11:44,026 - stpipe.Detector1Pipeline - INFO - Step Detector1Pipeline running with args ('ex_data/jw00042001001_01101_00002-seg021_nrca5_uncal.fits',).\n",
      "2021-07-26 16:11:44,038 - stpipe.Detector1Pipeline - INFO - Step Detector1Pipeline parameters are: {'pre_hooks': [], 'post_hooks': [], 'output_file': None, 'output_dir': 'ex_proc_data/', 'output_ext': '.fits', 'output_use_model': False, 'output_use_index': True, 'save_results': True, 'skip': False, 'suffix': None, 'search_output_file': True, 'input_dir': '', 'save_calibrated_ramp': False, 'steps': {'group_scale': {'pre_hooks': [], 'post_hooks': [], 'output_file': None, 'output_dir': None, 'output_ext': '.fits', 'output_use_model': False, 'output_use_index': True, 'save_results': False, 'skip': False, 'suffix': None, 'search_output_file': True, 'input_dir': ''}, 'dq_init': {'pre_hooks': [], 'post_hooks': [], 'output_file': None, 'output_dir': None, 'output_ext': '.fits', 'output_use_model': False, 'output_use_index': True, 'save_results': False, 'skip': False, 'suffix': None, 'search_output_file': True, 'input_dir': ''}, 'saturation': {'pre_hooks': [], 'post_hooks': [], 'output_file': None, 'output_dir': None, 'output_ext': '.fits', 'output_use_model': False, 'output_use_index': True, 'save_results': False, 'skip': False, 'suffix': None, 'search_output_file': True, 'input_dir': ''}, 'ipc': {'pre_hooks': [], 'post_hooks': [], 'output_file': None, 'output_dir': None, 'output_ext': '.fits', 'output_use_model': False, 'output_use_index': True, 'save_results': False, 'skip': True, 'suffix': None, 'search_output_file': True, 'input_dir': ''}, 'superbias': {'pre_hooks': [], 'post_hooks': [], 'output_file': None, 'output_dir': None, 'output_ext': '.fits', 'output_use_model': False, 'output_use_index': True, 'save_results': False, 'skip': False, 'suffix': None, 'search_output_file': True, 'input_dir': ''}, 'refpix': {'pre_hooks': [], 'post_hooks': [], 'output_file': None, 'output_dir': None, 'output_ext': '.fits', 'output_use_model': False, 'output_use_index': True, 'save_results': False, 'skip': False, 'suffix': None, 'search_output_file': True, 'input_dir': '', 'odd_even_columns': True, 'use_side_ref_pixels': True, 'side_smoothing_length': 11, 'side_gain': 1.0, 'odd_even_rows': True}, 'rscd': {'pre_hooks': [], 'post_hooks': [], 'output_file': None, 'output_dir': None, 'output_ext': '.fits', 'output_use_model': False, 'output_use_index': True, 'save_results': False, 'skip': False, 'suffix': None, 'search_output_file': True, 'input_dir': '', 'type': 'baseline'}, 'firstframe': {'pre_hooks': [], 'post_hooks': [], 'output_file': None, 'output_dir': None, 'output_ext': '.fits', 'output_use_model': False, 'output_use_index': True, 'save_results': False, 'skip': False, 'suffix': None, 'search_output_file': True, 'input_dir': ''}, 'lastframe': {'pre_hooks': [], 'post_hooks': [], 'output_file': None, 'output_dir': None, 'output_ext': '.fits', 'output_use_model': False, 'output_use_index': True, 'save_results': False, 'skip': False, 'suffix': None, 'search_output_file': True, 'input_dir': ''}, 'linearity': {'pre_hooks': [], 'post_hooks': [], 'output_file': None, 'output_dir': None, 'output_ext': '.fits', 'output_use_model': False, 'output_use_index': True, 'save_results': False, 'skip': False, 'suffix': None, 'search_output_file': True, 'input_dir': ''}, 'dark_current': {'pre_hooks': [], 'post_hooks': [], 'output_file': None, 'output_dir': None, 'output_ext': '.fits', 'output_use_model': False, 'output_use_index': True, 'save_results': False, 'skip': False, 'suffix': None, 'search_output_file': True, 'input_dir': '', 'dark_output': None}, 'reset': {'pre_hooks': [], 'post_hooks': [], 'output_file': None, 'output_dir': None, 'output_ext': '.fits', 'output_use_model': False, 'output_use_index': True, 'save_results': False, 'skip': False, 'suffix': None, 'search_output_file': True, 'input_dir': ''}, 'persistence': {'pre_hooks': [], 'post_hooks': [], 'output_file': None, 'output_dir': None, 'output_ext': '.fits', 'output_use_model': False, 'output_use_index': True, 'save_results': False, 'skip': True, 'suffix': None, 'search_output_file': True, 'input_dir': '', 'input_trapsfilled': '', 'flag_pers_cutoff': 40.0, 'save_persistence': False, 'save_trapsfilled': True}, 'jump': {'pre_hooks': [], 'post_hooks': [], 'output_file': None, 'output_dir': None, 'output_ext': '.fits', 'output_use_model': False, 'output_use_index': True, 'save_results': False, 'skip': False, 'suffix': None, 'search_output_file': True, 'input_dir': '', 'rejection_threshold': 15, 'maximum_cores': 'none', 'flag_4_neighbors': True, 'max_jump_to_flag_neighbors': 200.0, 'min_jump_to_flag_neighbors': 10.0}, 'ramp_fit': {'pre_hooks': [], 'post_hooks': [], 'output_file': None, 'output_dir': None, 'output_ext': '.fits', 'output_use_model': False, 'output_use_index': True, 'save_results': False, 'skip': False, 'suffix': None, 'search_output_file': True, 'input_dir': '', 'int_name': '', 'save_opt': False, 'opt_name': '', 'maximum_cores': 'none'}, 'gain_scale': {'pre_hooks': [], 'post_hooks': [], 'output_file': None, 'output_dir': None, 'output_ext': '.fits', 'output_use_model': False, 'output_use_index': True, 'save_results': False, 'skip': False, 'suffix': None, 'search_output_file': True, 'input_dir': ''}}}\n",
      "2021-07-26 16:11:44,635 - stpipe.Detector1Pipeline - INFO - Prefetching reference files for dataset: 'jw00042001001_01101_00002-seg021_nrca5_uncal.fits' reftypes = ['dark', 'gain', 'linearity', 'mask', 'readnoise', 'refpix', 'reset', 'rscd', 'saturation', 'superbias']\n",
      "2021-07-26 16:11:47,342 - stpipe.Detector1Pipeline - INFO - Prefetch for DARK reference file is '/Users/everettschlawin/crds_cache/references/jwst/nircam/jwst_nircam_dark_0178.fits'.\n",
      "2021-07-26 16:11:47,343 - stpipe.Detector1Pipeline - INFO - Prefetch for GAIN reference file is '/Users/everettschlawin/crds_cache/references/jwst/nircam/jwst_nircam_gain_0056.fits'.\n",
      "2021-07-26 16:11:47,344 - stpipe.Detector1Pipeline - INFO - Prefetch for LINEARITY reference file is '/Users/everettschlawin/crds_cache/references/jwst/nircam/jwst_nircam_linearity_0052.fits'.\n",
      "2021-07-26 16:11:47,344 - stpipe.Detector1Pipeline - INFO - Prefetch for MASK reference file is '/Users/everettschlawin/crds_cache/references/jwst/nircam/jwst_nircam_mask_0038.fits'.\n",
      "2021-07-26 16:11:47,345 - stpipe.Detector1Pipeline - INFO - Prefetch for READNOISE reference file is '/Users/everettschlawin/crds_cache/references/jwst/nircam/jwst_nircam_readnoise_0042.fits'.\n",
      "2021-07-26 16:11:47,346 - stpipe.Detector1Pipeline - INFO - Prefetch for REFPIX reference file is 'N/A'.\n",
      "2021-07-26 16:11:47,346 - stpipe.Detector1Pipeline - INFO - Prefetch for RESET reference file is 'N/A'.\n",
      "2021-07-26 16:11:47,347 - stpipe.Detector1Pipeline - INFO - Prefetch for RSCD reference file is 'N/A'.\n",
      "2021-07-26 16:11:47,347 - stpipe.Detector1Pipeline - INFO - Prefetch for SATURATION reference file is '/Users/everettschlawin/crds_cache/references/jwst/nircam/jwst_nircam_saturation_0063.fits'.\n",
      "2021-07-26 16:11:47,348 - stpipe.Detector1Pipeline - INFO - Prefetch for SUPERBIAS reference file is '/Users/everettschlawin/crds_cache/references/jwst/nircam/jwst_nircam_superbias_0022.fits'.\n",
      "2021-07-26 16:11:47,349 - stpipe.Detector1Pipeline - INFO - Starting calwebb_detector1 ...\n",
      "2021-07-26 16:11:47,649 - stpipe.Detector1Pipeline.group_scale - INFO - Step group_scale running with args (<RampModel(7, 19, 64, 2048) from jw00042001001_01101_00002-seg021_nrca5_uncal.fits>,).\n",
      "2021-07-26 16:11:47,651 - stpipe.Detector1Pipeline.group_scale - INFO - Step group_scale parameters are: {'pre_hooks': [], 'post_hooks': [], 'output_file': None, 'output_dir': None, 'output_ext': '.fits', 'output_use_model': False, 'output_use_index': True, 'save_results': False, 'skip': False, 'suffix': None, 'search_output_file': True, 'input_dir': 'ex_data'}\n",
      "2021-07-26 16:11:47,781 - stpipe.Detector1Pipeline.group_scale - INFO - NFRAMES=1 is a power of 2; correction not needed\n",
      "2021-07-26 16:11:47,782 - stpipe.Detector1Pipeline.group_scale - INFO - Step will be skipped\n",
      "2021-07-26 16:11:47,784 - stpipe.Detector1Pipeline.group_scale - INFO - Step group_scale done\n",
      "2021-07-26 16:11:47,845 - stpipe.Detector1Pipeline.dq_init - INFO - Step dq_init running with args (<RampModel(7, 19, 64, 2048) from jw00042001001_01101_00002-seg021_nrca5_uncal.fits>,).\n"
     ]
    },
    {
     "name": "stderr",
     "output_type": "stream",
     "text": [
      "2021-07-26 16:11:47,846 - stpipe.Detector1Pipeline.dq_init - INFO - Step dq_init parameters are: {'pre_hooks': [], 'post_hooks': [], 'output_file': None, 'output_dir': None, 'output_ext': '.fits', 'output_use_model': False, 'output_use_index': True, 'save_results': False, 'skip': False, 'suffix': None, 'search_output_file': True, 'input_dir': 'ex_data'}\n",
      "2021-07-26 16:11:47,870 - stpipe.Detector1Pipeline.dq_init - INFO - Using MASK reference file /Users/everettschlawin/crds_cache/references/jwst/nircam/jwst_nircam_mask_0038.fits\n",
      "2021-07-26 16:11:48,024 - stpipe.Detector1Pipeline.dq_init - WARNING - Keyword NOISY does not correspond to an existing DQ mnemonic, so will be ignored\n",
      "2021-07-26 16:11:48,113 - stpipe.Detector1Pipeline.dq_init - WARNING - Keyword WEIRD does not correspond to an existing DQ mnemonic, so will be ignored\n",
      "2021-07-26 16:11:48,245 - stpipe.Detector1Pipeline.dq_init - INFO - Extracting mask subarray to match science data\n",
      "2021-07-26 16:11:48,257 - stpipe.Detector1Pipeline.dq_init - INFO - Step dq_init done\n",
      "2021-07-26 16:11:48,338 - stpipe.Detector1Pipeline.saturation - INFO - Step saturation running with args (<RampModel(7, 19, 64, 2048) from jw00042001001_01101_00002-seg021_nrca5_uncal.fits>,).\n",
      "2021-07-26 16:11:48,339 - stpipe.Detector1Pipeline.saturation - INFO - Step saturation parameters are: {'pre_hooks': [], 'post_hooks': [], 'output_file': None, 'output_dir': None, 'output_ext': '.fits', 'output_use_model': False, 'output_use_index': True, 'save_results': False, 'skip': False, 'suffix': None, 'search_output_file': True, 'input_dir': 'ex_data'}\n",
      "2021-07-26 16:11:48,366 - stpipe.Detector1Pipeline.saturation - INFO - Using SATURATION reference file /Users/everettschlawin/crds_cache/references/jwst/nircam/jwst_nircam_saturation_0063.fits\n",
      "2021-07-26 16:11:48,448 - stpipe.Detector1Pipeline.saturation - WARNING - Keyword NO_SATURATION does not correspond to an existing DQ mnemonic, so will be ignored\n",
      "2021-07-26 16:11:48,449 - stpipe.Detector1Pipeline.saturation - WARNING - Keyword FEW_SAMPLES does not correspond to an existing DQ mnemonic, so will be ignored\n",
      "2021-07-26 16:11:48,449 - stpipe.Detector1Pipeline.saturation - WARNING - Keyword AD_SATURATION does not correspond to an existing DQ mnemonic, so will be ignored\n",
      "2021-07-26 16:11:48,450 - stpipe.Detector1Pipeline.saturation - WARNING - Keyword WEIRD_PIXEL does not correspond to an existing DQ mnemonic, so will be ignored\n",
      "2021-07-26 16:11:48,451 - stpipe.Detector1Pipeline.saturation - WARNING - Keyword DEAD_PIXEL does not correspond to an existing DQ mnemonic, so will be ignored\n",
      "2021-07-26 16:11:48,524 - stpipe.Detector1Pipeline.saturation - INFO - Extracting reference file subarray to match science data\n",
      "2021-07-26 16:11:48,688 - stpipe.Detector1Pipeline.saturation - INFO - Detected 8727 saturated pixels\n",
      "2021-07-26 16:11:48,695 - stpipe.Detector1Pipeline.saturation - INFO - Detected 0 A/D floor pixels\n",
      "2021-07-26 16:11:48,698 - stpipe.Detector1Pipeline.saturation - INFO - Step saturation done\n",
      "2021-07-26 16:11:48,777 - stpipe.Detector1Pipeline.ipc - INFO - Step ipc running with args (<RampModel(7, 19, 64, 2048) from jw00042001001_01101_00002-seg021_nrca5_uncal.fits>,).\n",
      "2021-07-26 16:11:48,778 - stpipe.Detector1Pipeline.ipc - INFO - Step ipc parameters are: {'pre_hooks': [], 'post_hooks': [], 'output_file': None, 'output_dir': None, 'output_ext': '.fits', 'output_use_model': False, 'output_use_index': True, 'save_results': False, 'skip': True, 'suffix': None, 'search_output_file': True, 'input_dir': 'ex_data'}\n",
      "2021-07-26 16:11:48,779 - stpipe.Detector1Pipeline.ipc - INFO - Step skipped.\n",
      "2021-07-26 16:11:48,780 - stpipe.Detector1Pipeline.ipc - INFO - Step ipc done\n",
      "2021-07-26 16:11:48,836 - stpipe.Detector1Pipeline.superbias - INFO - Step superbias running with args (<RampModel(7, 19, 64, 2048) from jw00042001001_01101_00002-seg021_nrca5_uncal.fits>,).\n",
      "2021-07-26 16:11:48,837 - stpipe.Detector1Pipeline.superbias - INFO - Step superbias parameters are: {'pre_hooks': [], 'post_hooks': [], 'output_file': None, 'output_dir': None, 'output_ext': '.fits', 'output_use_model': False, 'output_use_index': True, 'save_results': False, 'skip': False, 'suffix': None, 'search_output_file': True, 'input_dir': 'ex_data'}\n",
      "2021-07-26 16:11:48,861 - stpipe.Detector1Pipeline.superbias - INFO - Using SUPERBIAS reference file /Users/everettschlawin/crds_cache/references/jwst/nircam/jwst_nircam_superbias_0022.fits\n",
      "2021-07-26 16:11:49,033 - stpipe.Detector1Pipeline.superbias - WARNING - Keyword NOISY does not correspond to an existing DQ mnemonic, so will be ignored\n",
      "2021-07-26 16:11:49,135 - stpipe.Detector1Pipeline.superbias - INFO - Step superbias done\n",
      "2021-07-26 16:11:49,230 - stpipe.Detector1Pipeline.refpix - INFO - Step refpix running with args (<RampModel(7, 19, 64, 2048) from jw00042001001_01101_00002-seg021_nrca5_uncal.fits>,).\n",
      "2021-07-26 16:11:49,231 - stpipe.Detector1Pipeline.refpix - INFO - Step refpix parameters are: {'pre_hooks': [], 'post_hooks': [], 'output_file': None, 'output_dir': None, 'output_ext': '.fits', 'output_use_model': False, 'output_use_index': True, 'save_results': False, 'skip': False, 'suffix': None, 'search_output_file': True, 'input_dir': 'ex_data', 'odd_even_columns': True, 'use_side_ref_pixels': True, 'side_smoothing_length': 11, 'side_gain': 1.0, 'odd_even_rows': True}\n",
      "2021-07-26 16:11:49,243 - stpipe.Detector1Pipeline.refpix - INFO - use_side_ref_pixels = True\n",
      "2021-07-26 16:11:49,245 - stpipe.Detector1Pipeline.refpix - INFO - odd_even_columns = True\n",
      "2021-07-26 16:11:49,245 - stpipe.Detector1Pipeline.refpix - INFO - side_smoothing_length = 11\n",
      "2021-07-26 16:11:49,246 - stpipe.Detector1Pipeline.refpix - INFO - side_gain = 1.000000\n",
      "2021-07-26 16:11:49,247 - stpipe.Detector1Pipeline.refpix - INFO - odd_even_rows = True\n",
      "2021-07-26 16:11:49,832 - stpipe.Detector1Pipeline.refpix - INFO - Step refpix done\n",
      "2021-07-26 16:11:49,916 - stpipe.Detector1Pipeline.linearity - INFO - Step linearity running with args (<RampModel(7, 19, 64, 2048) from jw00042001001_01101_00002-seg021_nrca5_uncal.fits>,).\n",
      "2021-07-26 16:11:49,917 - stpipe.Detector1Pipeline.linearity - INFO - Step linearity parameters are: {'pre_hooks': [], 'post_hooks': [], 'output_file': None, 'output_dir': None, 'output_ext': '.fits', 'output_use_model': False, 'output_use_index': True, 'save_results': False, 'skip': False, 'suffix': None, 'search_output_file': True, 'input_dir': 'ex_data'}\n",
      "2021-07-26 16:11:49,940 - stpipe.Detector1Pipeline.linearity - INFO - Using Linearity reference file /Users/everettschlawin/crds_cache/references/jwst/nircam/jwst_nircam_linearity_0052.fits\n",
      "2021-07-26 16:11:50,123 - stpipe.Detector1Pipeline.linearity - WARNING - Keyword UAZ_DO_NOT_USE does not correspond to an existing DQ mnemonic, so will be ignored\n",
      "2021-07-26 16:11:50,124 - stpipe.Detector1Pipeline.linearity - WARNING - Keyword UAZ_NO_LIN_SAMP does not correspond to an existing DQ mnemonic, so will be ignored\n",
      "2021-07-26 16:11:50,124 - stpipe.Detector1Pipeline.linearity - WARNING - Keyword UAZ_BAD_LIN_FIT does not correspond to an existing DQ mnemonic, so will be ignored\n",
      "2021-07-26 16:11:50,125 - stpipe.Detector1Pipeline.linearity - WARNING - Keyword UAZ_NO_WELL_SAMP does not correspond to an existing DQ mnemonic, so will be ignored\n",
      "2021-07-26 16:11:50,126 - stpipe.Detector1Pipeline.linearity - WARNING - Keyword UAZ_MODEL_FIT_FAIL does not correspond to an existing DQ mnemonic, so will be ignored\n",
      "2021-07-26 16:11:50,127 - stpipe.Detector1Pipeline.linearity - WARNING - Keyword UAZ_WELL_NOT_DEFINED does not correspond to an existing DQ mnemonic, so will be ignored\n",
      "2021-07-26 16:11:50,127 - stpipe.Detector1Pipeline.linearity - WARNING - Keyword UAZ_MASTER_MASK does not correspond to an existing DQ mnemonic, so will be ignored\n",
      "2021-07-26 16:11:50,206 - stpipe.Detector1Pipeline.linearity - INFO - Extracting linearity subarray to match science data\n",
      "2021-07-26 16:11:50,355 - stpipe.Detector1Pipeline.linearity - INFO - Step linearity done\n",
      "2021-07-26 16:11:50,444 - stpipe.Detector1Pipeline.persistence - INFO - Step persistence running with args (<RampModel(7, 19, 64, 2048) from jw00042001001_01101_00002-seg021_nrca5_uncal.fits>,).\n",
      "2021-07-26 16:11:50,445 - stpipe.Detector1Pipeline.persistence - INFO - Step persistence parameters are: {'pre_hooks': [], 'post_hooks': [], 'output_file': None, 'output_dir': None, 'output_ext': '.fits', 'output_use_model': False, 'output_use_index': True, 'save_results': False, 'skip': True, 'suffix': None, 'search_output_file': True, 'input_dir': 'ex_data', 'input_trapsfilled': '', 'flag_pers_cutoff': 40.0, 'save_persistence': False, 'save_trapsfilled': True}\n"
     ]
    },
    {
     "name": "stderr",
     "output_type": "stream",
     "text": [
      "2021-07-26 16:11:50,446 - stpipe.Detector1Pipeline.persistence - INFO - Step skipped.\n",
      "2021-07-26 16:11:50,448 - stpipe.Detector1Pipeline.persistence - INFO - Step persistence done\n",
      "2021-07-26 16:11:50,505 - stpipe.Detector1Pipeline.dark_current - INFO - Step dark_current running with args (<RampModel(7, 19, 64, 2048) from jw00042001001_01101_00002-seg021_nrca5_uncal.fits>,).\n",
      "2021-07-26 16:11:50,507 - stpipe.Detector1Pipeline.dark_current - INFO - Step dark_current parameters are: {'pre_hooks': [], 'post_hooks': [], 'output_file': None, 'output_dir': 'ex_proc_data/', 'output_ext': '.fits', 'output_use_model': False, 'output_use_index': True, 'save_results': False, 'skip': False, 'suffix': None, 'search_output_file': True, 'input_dir': 'ex_data', 'dark_output': None}\n",
      "2021-07-26 16:11:50,531 - stpipe.Detector1Pipeline.dark_current - INFO - Using DARK reference file /Users/everettschlawin/crds_cache/references/jwst/nircam/jwst_nircam_dark_0178.fits\n",
      "2021-07-26 16:11:50,572 - stpipe.Detector1Pipeline.dark_current - WARNING - Keyword HIGH_NOISE does not correspond to an existing DQ mnemonic, so will be ignored\n",
      "2021-07-26 16:11:50,573 - stpipe.Detector1Pipeline.dark_current - WARNING - Keyword UNSTABLE_NOISE does not correspond to an existing DQ mnemonic, so will be ignored\n",
      "2021-07-26 16:11:50,576 - stpipe.Detector1Pipeline.dark_current - INFO - Science data nints=7, ngroups=19, nframes=1, groupgap=0\n",
      "2021-07-26 16:11:50,577 - stpipe.Detector1Pipeline.dark_current - INFO - Dark data nints=1, ngroups=20, nframes=1, groupgap=0\n",
      "2021-07-26 16:11:50,656 - stpipe.Detector1Pipeline.dark_current - INFO - Step dark_current done\n",
      "2021-07-26 16:11:50,746 - stpipe.Detector1Pipeline.jump - INFO - Step jump running with args (<RampModel(7, 19, 64, 2048) from jw00042001001_01101_00002-seg021_nrca5_uncal.fits>,).\n",
      "2021-07-26 16:11:50,748 - stpipe.Detector1Pipeline.jump - INFO - Step jump parameters are: {'pre_hooks': [], 'post_hooks': [], 'output_file': None, 'output_dir': None, 'output_ext': '.fits', 'output_use_model': False, 'output_use_index': True, 'save_results': False, 'skip': False, 'suffix': None, 'search_output_file': True, 'input_dir': 'ex_data', 'rejection_threshold': 15, 'maximum_cores': 'none', 'flag_4_neighbors': True, 'max_jump_to_flag_neighbors': 200.0, 'min_jump_to_flag_neighbors': 10.0}\n",
      "2021-07-26 16:11:50,760 - stpipe.Detector1Pipeline.jump - INFO - CR rejection threshold = 15 sigma\n",
      "2021-07-26 16:11:50,774 - stpipe.Detector1Pipeline.jump - INFO - Using GAIN reference file: /Users/everettschlawin/crds_cache/references/jwst/nircam/jwst_nircam_gain_0056.fits\n",
      "2021-07-26 16:11:50,824 - stpipe.Detector1Pipeline.jump - INFO - Using READNOISE reference file: /Users/everettschlawin/crds_cache/references/jwst/nircam/jwst_nircam_readnoise_0042.fits\n",
      "2021-07-26 16:11:50,846 - stpipe.Detector1Pipeline.jump - INFO - Found 8 possible cores to use for jump detection \n",
      "2021-07-26 16:11:50,908 - stpipe.Detector1Pipeline.jump - INFO - Extracting gain subarray to match science data\n",
      "2021-07-26 16:11:50,909 - stpipe.Detector1Pipeline.jump - INFO - Extracting readnoise subarray to match science data\n",
      "2021-07-26 16:11:50,935 - stpipe.Detector1Pipeline.jump - INFO - Executing two-point difference method\n",
      "2021-07-26 16:11:51,137 - stpipe.Detector1Pipeline.jump - INFO - Working on integration 1:\n",
      "2021-07-26 16:11:51,233 - stpipe.Detector1Pipeline.jump - INFO - From highest outlier Two-point found 173 pixels with at least one CR\n",
      "2021-07-26 16:11:51,265 - stpipe.Detector1Pipeline.jump - INFO - Working on integration 2:\n",
      "2021-07-26 16:11:51,353 - stpipe.Detector1Pipeline.jump - INFO - From highest outlier Two-point found 108 pixels with at least one CR\n",
      "2021-07-26 16:11:51,380 - stpipe.Detector1Pipeline.jump - INFO - Working on integration 3:\n",
      "2021-07-26 16:11:51,455 - stpipe.Detector1Pipeline.jump - INFO - From highest outlier Two-point found 123 pixels with at least one CR\n",
      "2021-07-26 16:11:51,480 - stpipe.Detector1Pipeline.jump - INFO - Working on integration 4:\n",
      "2021-07-26 16:11:51,556 - stpipe.Detector1Pipeline.jump - INFO - From highest outlier Two-point found 113 pixels with at least one CR\n",
      "2021-07-26 16:11:51,582 - stpipe.Detector1Pipeline.jump - INFO - Working on integration 5:\n",
      "2021-07-26 16:11:51,658 - stpipe.Detector1Pipeline.jump - INFO - From highest outlier Two-point found 115 pixels with at least one CR\n",
      "2021-07-26 16:11:51,681 - stpipe.Detector1Pipeline.jump - INFO - Working on integration 6:\n",
      "2021-07-26 16:11:51,765 - stpipe.Detector1Pipeline.jump - INFO - From highest outlier Two-point found 102 pixels with at least one CR\n",
      "2021-07-26 16:11:51,796 - stpipe.Detector1Pipeline.jump - INFO - Working on integration 7:\n",
      "2021-07-26 16:11:51,877 - stpipe.Detector1Pipeline.jump - INFO - From highest outlier Two-point found 117 pixels with at least one CR\n",
      "2021-07-26 16:11:51,907 - stpipe.Detector1Pipeline.jump - INFO - Total elapsed time = 0.971987 sec\n",
      "2021-07-26 16:11:51,910 - stpipe.Detector1Pipeline.jump - INFO - The execution time in seconds: 1.150687\n",
      "2021-07-26 16:11:51,913 - stpipe.Detector1Pipeline.jump - INFO - Step jump done\n",
      "2021-07-26 16:11:52,010 - stpipe.Detector1Pipeline.ramp_fit - INFO - Step ramp_fit running with args (<RampModel(7, 19, 64, 2048) from jw00042001001_01101_00002-seg021_nrca5_uncal.fits>,).\n",
      "2021-07-26 16:11:52,012 - stpipe.Detector1Pipeline.ramp_fit - INFO - Step ramp_fit parameters are: {'pre_hooks': [], 'post_hooks': [], 'output_file': None, 'output_dir': 'ex_proc_data/', 'output_ext': '.fits', 'output_use_model': False, 'output_use_index': True, 'save_results': False, 'skip': False, 'suffix': None, 'search_output_file': True, 'input_dir': 'ex_data', 'int_name': '', 'save_opt': False, 'opt_name': '', 'maximum_cores': 'none'}\n",
      "2021-07-26 16:11:52,061 - stpipe.Detector1Pipeline.ramp_fit - INFO - Using READNOISE reference file: /Users/everettschlawin/crds_cache/references/jwst/nircam/jwst_nircam_readnoise_0042.fits\n",
      "2021-07-26 16:11:52,090 - stpipe.Detector1Pipeline.ramp_fit - INFO - Using GAIN reference file: /Users/everettschlawin/crds_cache/references/jwst/nircam/jwst_nircam_gain_0056.fits\n",
      "2021-07-26 16:11:52,132 - stpipe.Detector1Pipeline.ramp_fit - INFO - Using algorithm = ols\n",
      "2021-07-26 16:11:52,132 - stpipe.Detector1Pipeline.ramp_fit - INFO - Using weighting = optimal\n",
      "2021-07-26 16:11:52,133 - stpipe.Detector1Pipeline.ramp_fit - INFO - Extracting gain subarray to match science data\n",
      "2021-07-26 16:11:52,134 - stpipe.Detector1Pipeline.ramp_fit - INFO - Extracting readnoise subarray to match science data\n",
      "2021-07-26 16:12:05,006 - stpipe.Detector1Pipeline.ramp_fit - INFO - Number of groups per integration: 19\n",
      "2021-07-26 16:12:05,006 - stpipe.Detector1Pipeline.ramp_fit - INFO - Number of integrations: 7\n",
      "2021-07-26 16:12:05,061 - stpipe.Detector1Pipeline.ramp_fit - INFO - Step ramp_fit done\n",
      "2021-07-26 16:12:05,148 - stpipe.Detector1Pipeline.gain_scale - INFO - Step gain_scale running with args (<ImageModel(64, 2048) from jw00042001001_01101_00002-seg021_nrca5_uncal.fits>,).\n",
      "2021-07-26 16:12:05,150 - stpipe.Detector1Pipeline.gain_scale - INFO - Step gain_scale parameters are: {'pre_hooks': [], 'post_hooks': [], 'output_file': None, 'output_dir': None, 'output_ext': '.fits', 'output_use_model': False, 'output_use_index': True, 'save_results': False, 'skip': False, 'suffix': 'gain_scale', 'search_output_file': True, 'input_dir': 'ex_data'}\n",
      "2021-07-26 16:12:05,208 - stpipe.Detector1Pipeline.gain_scale - INFO - GAINFACT not found in gain reference file\n",
      "2021-07-26 16:12:05,208 - stpipe.Detector1Pipeline.gain_scale - INFO - Step will be skipped\n",
      "2021-07-26 16:12:05,212 - stpipe.Detector1Pipeline.gain_scale - INFO - Step gain_scale done\n",
      "2021-07-26 16:12:05,285 - stpipe.Detector1Pipeline.gain_scale - INFO - Step gain_scale running with args (<CubeModel(7, 64, 2048) from jw00042001001_01101_00002-seg021_nrca5_uncal.fits>,).\n",
      "2021-07-26 16:12:05,286 - stpipe.Detector1Pipeline.gain_scale - INFO - Step gain_scale parameters are: {'pre_hooks': [], 'post_hooks': [], 'output_file': None, 'output_dir': None, 'output_ext': '.fits', 'output_use_model': False, 'output_use_index': True, 'save_results': False, 'skip': False, 'suffix': 'gain_scaleints', 'search_output_file': True, 'input_dir': 'ex_data'}\n"
     ]
    },
    {
     "name": "stderr",
     "output_type": "stream",
     "text": [
      "2021-07-26 16:12:05,341 - stpipe.Detector1Pipeline.gain_scale - INFO - GAINFACT not found in gain reference file\n",
      "2021-07-26 16:12:05,342 - stpipe.Detector1Pipeline.gain_scale - INFO - Step will be skipped\n",
      "2021-07-26 16:12:05,345 - stpipe.Detector1Pipeline.gain_scale - INFO - Step gain_scale done\n",
      "2021-07-26 16:12:05,689 - stpipe.Detector1Pipeline - INFO - Saved model in ex_proc_data/jw00042001001_01101_00002-seg021_nrca5_rateints.fits\n",
      "2021-07-26 16:12:05,691 - stpipe.Detector1Pipeline - INFO - ... ending calwebb_detector1\n",
      "2021-07-26 16:12:05,761 - stpipe.Detector1Pipeline - INFO - Saved model in ex_proc_data/jw00042001001_01101_00002-seg021_nrca5_rate.fits\n",
      "2021-07-26 16:12:05,762 - stpipe.Detector1Pipeline - INFO - Step Detector1Pipeline done\n"
     ]
    }
   ],
   "source": [
    "for one_file in uncal_list:\n",
    "    pipeline.run(one_file)"
   ]
  },
  {
   "cell_type": "markdown",
   "id": "bd72bd76",
   "metadata": {},
   "source": [
    "Make sure we have rateints"
   ]
  },
  {
   "cell_type": "code",
   "execution_count": 8,
   "id": "4ffbe39a",
   "metadata": {},
   "outputs": [
    {
     "name": "stderr",
     "output_type": "stream",
     "text": [
      "2021-07-26 16:12:05,767 - stpipe - WARNING - /Users/everettschlawin/anaconda/envs/jwst_py3p9p5/lib/python3.9/site-packages/ipykernel/ipkernel.py:283: DeprecationWarning: `should_run_async` will not call `transform_cell` automatically in the future. Please pass the result to `transformed_cell` argument and any exception that happen during thetransform in `preprocessing_exc_tuple` in IPython 7.17 and above.\n",
      "  and should_run_async(code)\n",
      "\n"
     ]
    }
   ],
   "source": [
    "rateints_list = glob.glob(os.path.join(out_path,'*rateints.fits'))\n",
    "n_rateints = len(rateints_list)\n",
    "if n_rateints != n_uncal:\n",
    "    warnings.warn(\"{} rateints but {} uncal\".format(n_rateints,n_uncal))"
   ]
  },
  {
   "cell_type": "markdown",
   "id": "7c35f9e0",
   "metadata": {},
   "source": [
    "Run stage 2"
   ]
  },
  {
   "cell_type": "code",
   "execution_count": 9,
   "id": "3c674d4f",
   "metadata": {},
   "outputs": [
    {
     "name": "stderr",
     "output_type": "stream",
     "text": [
      "2021-07-26 16:12:05,789 - stpipe.Spec2Pipeline - INFO - Spec2Pipeline instance created.\n",
      "2021-07-26 16:12:05,792 - stpipe.Spec2Pipeline.bkg_subtract - INFO - BackgroundStep instance created.\n",
      "2021-07-26 16:12:05,794 - stpipe.Spec2Pipeline.assign_wcs - INFO - AssignWcsStep instance created.\n",
      "2021-07-26 16:12:05,796 - stpipe.Spec2Pipeline.imprint_subtract - INFO - ImprintStep instance created.\n",
      "2021-07-26 16:12:05,798 - stpipe.Spec2Pipeline.msa_flagging - INFO - MSAFlagOpenStep instance created.\n",
      "2021-07-26 16:12:05,799 - stpipe.Spec2Pipeline.extract_2d - INFO - Extract2dStep instance created.\n",
      "2021-07-26 16:12:05,803 - stpipe.Spec2Pipeline.master_background - INFO - MasterBackgroundNrsSlitsStep instance created.\n",
      "2021-07-26 16:12:05,805 - stpipe.Spec2Pipeline.master_background.flat_field - INFO - FlatFieldStep instance created.\n",
      "2021-07-26 16:12:05,806 - stpipe.Spec2Pipeline.master_background.pathloss - INFO - PathLossStep instance created.\n",
      "2021-07-26 16:12:05,808 - stpipe.Spec2Pipeline.master_background.barshadow - INFO - BarShadowStep instance created.\n",
      "2021-07-26 16:12:05,811 - stpipe.Spec2Pipeline.master_background.photom - INFO - PhotomStep instance created.\n",
      "2021-07-26 16:12:05,813 - stpipe.Spec2Pipeline.wavecorr - INFO - WavecorrStep instance created.\n",
      "2021-07-26 16:12:05,815 - stpipe.Spec2Pipeline.flat_field - INFO - FlatFieldStep instance created.\n",
      "2021-07-26 16:12:05,817 - stpipe.Spec2Pipeline.srctype - INFO - SourceTypeStep instance created.\n",
      "2021-07-26 16:12:05,819 - stpipe.Spec2Pipeline.straylight - INFO - StraylightStep instance created.\n",
      "2021-07-26 16:12:05,820 - stpipe.Spec2Pipeline.fringe - INFO - FringeStep instance created.\n",
      "2021-07-26 16:12:05,821 - stpipe.Spec2Pipeline.pathloss - INFO - PathLossStep instance created.\n",
      "2021-07-26 16:12:05,823 - stpipe.Spec2Pipeline.barshadow - INFO - BarShadowStep instance created.\n",
      "2021-07-26 16:12:05,824 - stpipe.Spec2Pipeline.photom - INFO - PhotomStep instance created.\n",
      "2021-07-26 16:12:05,826 - stpipe.Spec2Pipeline.resample_spec - INFO - ResampleSpecStep instance created.\n",
      "2021-07-26 16:12:05,829 - stpipe.Spec2Pipeline.cube_build - INFO - CubeBuildStep instance created.\n",
      "2021-07-26 16:12:05,832 - stpipe.Spec2Pipeline.extract_1d - INFO - Extract1dStep instance created.\n",
      "2021-07-26 16:12:05,939 - stpipe.Spec2Pipeline - INFO - Step Spec2Pipeline running with args ('ex_proc_data/jw00042001001_01101_00002-seg021_nrca5_rateints.fits',).\n",
      "2021-07-26 16:12:05,953 - stpipe.Spec2Pipeline - INFO - Step Spec2Pipeline parameters are: {'pre_hooks': [], 'post_hooks': [], 'output_file': None, 'output_dir': 'ex_proc_data/', 'output_ext': '.fits', 'output_use_model': False, 'output_use_index': True, 'save_results': True, 'skip': False, 'suffix': None, 'search_output_file': True, 'input_dir': '', 'save_bsub': False, 'fail_on_exception': True, 'steps': {'bkg_subtract': {'pre_hooks': [], 'post_hooks': [], 'output_file': None, 'output_dir': None, 'output_ext': '.fits', 'output_use_model': False, 'output_use_index': True, 'save_results': False, 'skip': False, 'suffix': None, 'search_output_file': True, 'input_dir': '', 'sigma': 3.0, 'maxiters': None}, 'assign_wcs': {'pre_hooks': [], 'post_hooks': [], 'output_file': None, 'output_dir': None, 'output_ext': '.fits', 'output_use_model': False, 'output_use_index': True, 'save_results': False, 'skip': False, 'suffix': None, 'search_output_file': True, 'input_dir': '', 'sip_approx': True, 'sip_max_pix_error': 0.25, 'sip_degree': None, 'sip_max_inv_pix_error': 0.25, 'sip_inv_degree': None, 'sip_npoints': 32, 'slit_y_low': -0.55, 'slit_y_high': 0.55}, 'imprint_subtract': {'pre_hooks': [], 'post_hooks': [], 'output_file': None, 'output_dir': None, 'output_ext': '.fits', 'output_use_model': False, 'output_use_index': True, 'save_results': False, 'skip': False, 'suffix': None, 'search_output_file': True, 'input_dir': ''}, 'msa_flagging': {'pre_hooks': [], 'post_hooks': [], 'output_file': None, 'output_dir': None, 'output_ext': '.fits', 'output_use_model': False, 'output_use_index': True, 'save_results': False, 'skip': False, 'suffix': None, 'search_output_file': True, 'input_dir': ''}, 'extract_2d': {'pre_hooks': [], 'post_hooks': [], 'output_file': None, 'output_dir': None, 'output_ext': '.fits', 'output_use_model': False, 'output_use_index': True, 'save_results': False, 'skip': False, 'suffix': None, 'search_output_file': True, 'input_dir': '', 'slit_name': None, 'extract_orders': None, 'tsgrism_extract_height': None, 'wfss_extract_half_height': 5, 'grism_objects': None, 'mmag_extract': 99.0}, 'master_background': {'pre_hooks': [], 'post_hooks': [], 'output_file': None, 'output_dir': None, 'output_ext': '.fits', 'output_use_model': True, 'output_use_index': True, 'save_results': False, 'skip': False, 'suffix': None, 'search_output_file': True, 'input_dir': '', 'force_subtract': False, 'save_background': False, 'user_background': None, 'inverse': False, 'steps': {'flat_field': {'pre_hooks': [], 'post_hooks': [], 'output_file': None, 'output_dir': None, 'output_ext': '.fits', 'output_use_model': False, 'output_use_index': True, 'save_results': False, 'skip': False, 'suffix': None, 'search_output_file': True, 'input_dir': '', 'save_interpolated_flat': False, 'user_supplied_flat': None, 'inverse': False}, 'pathloss': {'pre_hooks': [], 'post_hooks': [], 'output_file': None, 'output_dir': None, 'output_ext': '.fits', 'output_use_model': False, 'output_use_index': True, 'save_results': False, 'skip': False, 'suffix': None, 'search_output_file': True, 'input_dir': '', 'inverse': False, 'source_type': None}, 'barshadow': {'pre_hooks': [], 'post_hooks': [], 'output_file': None, 'output_dir': None, 'output_ext': '.fits', 'output_use_model': False, 'output_use_index': True, 'save_results': False, 'skip': False, 'suffix': None, 'search_output_file': True, 'input_dir': '', 'inverse': False, 'source_type': None}, 'photom': {'pre_hooks': [], 'post_hooks': [], 'output_file': None, 'output_dir': None, 'output_ext': '.fits', 'output_use_model': False, 'output_use_index': True, 'save_results': False, 'skip': False, 'suffix': None, 'search_output_file': True, 'input_dir': '', 'inverse': False, 'source_type': None}}}, 'wavecorr': {'pre_hooks': [], 'post_hooks': [], 'output_file': None, 'output_dir': None, 'output_ext': '.fits', 'output_use_model': False, 'output_use_index': True, 'save_results': False, 'skip': False, 'suffix': None, 'search_output_file': True, 'input_dir': ''}, 'flat_field': {'pre_hooks': [], 'post_hooks': [], 'output_file': None, 'output_dir': None, 'output_ext': '.fits', 'output_use_model': False, 'output_use_index': True, 'save_results': False, 'skip': False, 'suffix': None, 'search_output_file': True, 'input_dir': '', 'save_interpolated_flat': False, 'user_supplied_flat': None, 'inverse': False}, 'srctype': {'pre_hooks': [], 'post_hooks': [], 'output_file': None, 'output_dir': None, 'output_ext': '.fits', 'output_use_model': False, 'output_use_index': True, 'save_results': False, 'skip': False, 'suffix': None, 'search_output_file': True, 'input_dir': ''}, 'straylight': {'pre_hooks': [], 'post_hooks': [], 'output_file': None, 'output_dir': None, 'output_ext': '.fits', 'output_use_model': False, 'output_use_index': True, 'save_results': False, 'skip': False, 'suffix': None, 'search_output_file': True, 'input_dir': '', 'method': 'ModShepard', 'roi': 50, 'power': 1.0}, 'fringe': {'pre_hooks': [], 'post_hooks': [], 'output_file': None, 'output_dir': None, 'output_ext': '.fits', 'output_use_model': False, 'output_use_index': True, 'save_results': False, 'skip': False, 'suffix': None, 'search_output_file': True, 'input_dir': ''}, 'pathloss': {'pre_hooks': [], 'post_hooks': [], 'output_file': None, 'output_dir': None, 'output_ext': '.fits', 'output_use_model': False, 'output_use_index': True, 'save_results': False, 'skip': False, 'suffix': None, 'search_output_file': True, 'input_dir': '', 'inverse': False, 'source_type': None}, 'barshadow': {'pre_hooks': [], 'post_hooks': [], 'output_file': None, 'output_dir': None, 'output_ext': '.fits', 'output_use_model': False, 'output_use_index': True, 'save_results': False, 'skip': False, 'suffix': None, 'search_output_file': True, 'input_dir': '', 'inverse': False, 'source_type': None}, 'photom': {'pre_hooks': [], 'post_hooks': [], 'output_file': None, 'output_dir': None, 'output_ext': '.fits', 'output_use_model': False, 'output_use_index': True, 'save_results': False, 'skip': False, 'suffix': None, 'search_output_file': True, 'input_dir': '', 'inverse': False, 'source_type': None}, 'resample_spec': {'pre_hooks': [], 'post_hooks': [], 'output_file': None, 'output_dir': None, 'output_ext': '.fits', 'output_use_model': False, 'output_use_index': True, 'save_results': False, 'skip': False, 'suffix': None, 'search_output_file': True, 'input_dir': '', 'pixfrac': 1.0, 'kernel': 'square', 'fillval': 'INDEF', 'weight_type': 'ivm', 'pixel_scale_ratio': 1.0, 'single': False, 'blendheaders': True, 'allowed_memory': None}, 'cube_build': {'pre_hooks': [], 'post_hooks': [], 'output_file': None, 'output_dir': None, 'output_ext': '.fits', 'output_use_model': True, 'output_use_index': True, 'save_results': False, 'skip': False, 'suffix': None, 'search_output_file': False, 'input_dir': '', 'channel': 'all', 'band': 'all', 'grating': 'all', 'filter': 'all', 'output_type': 'band', 'scale1': 0.0, 'scale2': 0.0, 'scalew': 0.0, 'weighting': 'emsm', 'coord_system': 'skyalign', 'rois': 0.0, 'roiw': 0.0, 'weight_power': 2.0, 'wavemin': None, 'wavemax': None, 'single': False, 'xdebug': None, 'ydebug': None, 'zdebug': None, 'skip_dqflagging': False}, 'extract_1d': {'pre_hooks': [], 'post_hooks': [], 'output_file': None, 'output_dir': None, 'output_ext': '.fits', 'output_use_model': False, 'output_use_index': True, 'save_results': False, 'skip': False, 'suffix': None, 'search_output_file': True, 'input_dir': '', 'smoothing_length': None, 'bkg_fit': 'poly', 'bkg_order': None, 'bkg_sigma_clip': 3.0, 'log_increment': 50, 'subtract_background': None, 'use_source_posn': None, 'apply_apcorr': True}}}\n"
     ]
    },
    {
     "name": "stderr",
     "output_type": "stream",
     "text": [
      "2021-07-26 16:12:06,015 - stpipe.Spec2Pipeline - INFO - Prefetching reference files for dataset: 'jw00042001001_01101_00002-seg021_nrca5_rateints.fits' reftypes = ['apcorr', 'area', 'barshadow', 'camera', 'collimator', 'cubepar', 'dflat', 'disperser', 'distortion', 'drizpars', 'extract1d', 'fflat', 'filteroffset', 'flat', 'fore', 'fpa', 'fringe', 'ifufore', 'ifupost', 'ifuslicer', 'msa', 'msaoper', 'ote', 'pathloss', 'photom', 'regions', 'resol', 'sflat', 'specwcs', 'wavecorr', 'wavelengthrange', 'wfssbkg']\n",
      "2021-07-26 16:12:06,020 - stpipe.Spec2Pipeline - INFO - Prefetch for APCORR reference file is 'N/A'.\n",
      "2021-07-26 16:12:06,020 - stpipe.Spec2Pipeline - INFO - Prefetch for AREA reference file is 'N/A'.\n",
      "2021-07-26 16:12:06,021 - stpipe.Spec2Pipeline - INFO - Prefetch for BARSHADOW reference file is 'N/A'.\n",
      "2021-07-26 16:12:06,021 - stpipe.Spec2Pipeline - INFO - Prefetch for CAMERA reference file is 'N/A'.\n",
      "2021-07-26 16:12:06,022 - stpipe.Spec2Pipeline - INFO - Prefetch for COLLIMATOR reference file is 'N/A'.\n",
      "2021-07-26 16:12:06,022 - stpipe.Spec2Pipeline - INFO - Prefetch for CUBEPAR reference file is 'N/A'.\n",
      "2021-07-26 16:12:06,023 - stpipe.Spec2Pipeline - INFO - Prefetch for DFLAT reference file is 'N/A'.\n",
      "2021-07-26 16:12:06,024 - stpipe.Spec2Pipeline - INFO - Prefetch for DISPERSER reference file is 'N/A'.\n",
      "2021-07-26 16:12:06,025 - stpipe.Spec2Pipeline - INFO - Prefetch for DISTORTION reference file is '/Users/everettschlawin/crds_cache/references/jwst/nircam/jwst_nircam_distortion_0090.asdf'.\n",
      "2021-07-26 16:12:06,025 - stpipe.Spec2Pipeline - INFO - Prefetch for DRIZPARS reference file is '/Users/everettschlawin/crds_cache/references/jwst/nircam/jwst_nircam_drizpars_0001.fits'.\n",
      "2021-07-26 16:12:06,026 - stpipe.Spec2Pipeline - INFO - Prefetch for EXTRACT1D reference file is 'N/A'.\n",
      "2021-07-26 16:12:06,026 - stpipe.Spec2Pipeline - INFO - Prefetch for FFLAT reference file is 'N/A'.\n",
      "2021-07-26 16:12:06,027 - stpipe.Spec2Pipeline - INFO - Prefetch for FILTEROFFSET reference file is '/Users/everettschlawin/crds_cache/references/jwst/nircam/jwst_nircam_filteroffset_0002.asdf'.\n",
      "2021-07-26 16:12:06,028 - stpipe.Spec2Pipeline - INFO - Prefetch for FLAT reference file is '/Users/everettschlawin/crds_cache/references/jwst/nircam/jwst_nircam_flat_0142.fits'.\n",
      "2021-07-26 16:12:06,029 - stpipe.Spec2Pipeline - INFO - Prefetch for FORE reference file is 'N/A'.\n",
      "2021-07-26 16:12:06,029 - stpipe.Spec2Pipeline - INFO - Prefetch for FPA reference file is 'N/A'.\n",
      "2021-07-26 16:12:06,030 - stpipe.Spec2Pipeline - INFO - Prefetch for FRINGE reference file is 'N/A'.\n",
      "2021-07-26 16:12:06,030 - stpipe.Spec2Pipeline - INFO - Prefetch for IFUFORE reference file is 'N/A'.\n",
      "2021-07-26 16:12:06,031 - stpipe.Spec2Pipeline - INFO - Prefetch for IFUPOST reference file is 'N/A'.\n",
      "2021-07-26 16:12:06,031 - stpipe.Spec2Pipeline - INFO - Prefetch for IFUSLICER reference file is 'N/A'.\n",
      "2021-07-26 16:12:06,031 - stpipe.Spec2Pipeline - INFO - Prefetch for MSA reference file is 'N/A'.\n",
      "2021-07-26 16:12:06,032 - stpipe.Spec2Pipeline - INFO - Prefetch for MSAOPER reference file is 'N/A'.\n",
      "2021-07-26 16:12:06,032 - stpipe.Spec2Pipeline - INFO - Prefetch for OTE reference file is 'N/A'.\n",
      "2021-07-26 16:12:06,033 - stpipe.Spec2Pipeline - INFO - Prefetch for PATHLOSS reference file is 'N/A'.\n",
      "2021-07-26 16:12:06,033 - stpipe.Spec2Pipeline - INFO - Prefetch for PHOTOM reference file is '/Users/everettschlawin/crds_cache/references/jwst/nircam/jwst_nircam_photom_0094.fits'.\n",
      "2021-07-26 16:12:06,034 - stpipe.Spec2Pipeline - INFO - Prefetch for REGIONS reference file is 'N/A'.\n",
      "2021-07-26 16:12:06,035 - stpipe.Spec2Pipeline - INFO - Prefetch for RESOL reference file is 'N/A'.\n",
      "2021-07-26 16:12:06,035 - stpipe.Spec2Pipeline - INFO - Prefetch for SFLAT reference file is 'N/A'.\n",
      "2021-07-26 16:12:06,036 - stpipe.Spec2Pipeline - INFO - Prefetch for SPECWCS reference file is '/Users/everettschlawin/crds_cache/references/jwst/nircam/jwst_nircam_specwcs_0010.asdf'.\n",
      "2021-07-26 16:12:06,037 - stpipe.Spec2Pipeline - INFO - Prefetch for WAVECORR reference file is 'N/A'.\n",
      "2021-07-26 16:12:06,037 - stpipe.Spec2Pipeline - INFO - Prefetch for WAVELENGTHRANGE reference file is '/Users/everettschlawin/crds_cache/references/jwst/nircam/jwst_nircam_wavelengthrange_0002.asdf'.\n",
      "2021-07-26 16:12:06,038 - stpipe.Spec2Pipeline - INFO - Prefetch for WFSSBKG reference file is 'N/A'.\n",
      "2021-07-26 16:12:06,038 - stpipe.Spec2Pipeline - INFO - Starting calwebb_spec2 ...\n",
      "2021-07-26 16:12:06,041 - stpipe.Spec2Pipeline - INFO - Processing product ex_proc_data/jw00042001001_01101_00002-seg021_nrca5\n",
      "2021-07-26 16:12:06,041 - stpipe.Spec2Pipeline - INFO - Working on input ex_proc_data/jw00042001001_01101_00002-seg021_nrca5_rateints.fits ...\n",
      "2021-07-26 16:12:06,180 - stpipe.Spec2Pipeline.assign_wcs - INFO - Step assign_wcs running with args (<CubeModel(7, 64, 2048) from jw00042001001_01101_00002-seg021_nrca5_rateints.fits>,).\n",
      "2021-07-26 16:12:06,182 - stpipe.Spec2Pipeline.assign_wcs - INFO - Step assign_wcs parameters are: {'pre_hooks': [], 'post_hooks': [], 'output_file': None, 'output_dir': None, 'output_ext': '.fits', 'output_use_model': False, 'output_use_index': True, 'save_results': False, 'skip': False, 'suffix': None, 'search_output_file': True, 'input_dir': 'ex_proc_data', 'sip_approx': True, 'sip_max_pix_error': 0.25, 'sip_degree': None, 'sip_max_inv_pix_error': 0.25, 'sip_inv_degree': None, 'sip_npoints': 32, 'slit_y_low': -0.55, 'slit_y_high': 0.55}\n",
      "2021-07-26 16:12:07,091 - stpipe.Spec2Pipeline.assign_wcs - INFO - COMPLETED assign_wcs\n",
      "2021-07-26 16:12:07,098 - stpipe.Spec2Pipeline.assign_wcs - INFO - Step assign_wcs done\n",
      "2021-07-26 16:12:07,164 - stpipe.Spec2Pipeline.bkg_subtract - INFO - Step bkg_subtract running with args (<CubeModel(7, 64, 2048) from jw00042001001_01101_00002-seg021_nrca5_rateints.fits>, []).\n",
      "2021-07-26 16:12:07,165 - stpipe.Spec2Pipeline.bkg_subtract - INFO - Step bkg_subtract parameters are: {'pre_hooks': [], 'post_hooks': [], 'output_file': None, 'output_dir': None, 'output_ext': '.fits', 'output_use_model': False, 'output_use_index': True, 'save_results': False, 'skip': True, 'suffix': None, 'search_output_file': True, 'input_dir': 'ex_proc_data', 'sigma': 3.0, 'maxiters': None}\n",
      "2021-07-26 16:12:07,165 - stpipe.Spec2Pipeline.bkg_subtract - INFO - Step skipped.\n",
      "2021-07-26 16:12:07,167 - stpipe.Spec2Pipeline.bkg_subtract - INFO - Step bkg_subtract done\n",
      "2021-07-26 16:12:07,220 - stpipe.Spec2Pipeline.imprint_subtract - INFO - Step imprint_subtract running with args (<CubeModel(7, 64, 2048) from jw00042001001_01101_00002-seg021_nrca5_rateints.fits>, []).\n",
      "2021-07-26 16:12:07,222 - stpipe.Spec2Pipeline.imprint_subtract - INFO - Step imprint_subtract parameters are: {'pre_hooks': [], 'post_hooks': [], 'output_file': None, 'output_dir': None, 'output_ext': '.fits', 'output_use_model': False, 'output_use_index': True, 'save_results': False, 'skip': True, 'suffix': None, 'search_output_file': True, 'input_dir': 'ex_proc_data'}\n",
      "2021-07-26 16:12:07,222 - stpipe.Spec2Pipeline.imprint_subtract - INFO - Step skipped.\n",
      "2021-07-26 16:12:07,224 - stpipe.Spec2Pipeline.imprint_subtract - INFO - Step imprint_subtract done\n",
      "2021-07-26 16:12:07,276 - stpipe.Spec2Pipeline.msa_flagging - INFO - Step msa_flagging running with args (<CubeModel(7, 64, 2048) from jw00042001001_01101_00002-seg021_nrca5_rateints.fits>,).\n",
      "2021-07-26 16:12:07,277 - stpipe.Spec2Pipeline.msa_flagging - INFO - Step msa_flagging parameters are: {'pre_hooks': [], 'post_hooks': [], 'output_file': None, 'output_dir': None, 'output_ext': '.fits', 'output_use_model': False, 'output_use_index': True, 'save_results': False, 'skip': True, 'suffix': None, 'search_output_file': True, 'input_dir': 'ex_proc_data'}\n",
      "2021-07-26 16:12:07,278 - stpipe.Spec2Pipeline.msa_flagging - INFO - Step skipped.\n",
      "2021-07-26 16:12:07,279 - stpipe.Spec2Pipeline.msa_flagging - INFO - Step msa_flagging done\n",
      "2021-07-26 16:12:07,332 - stpipe.Spec2Pipeline.flat_field - INFO - Step flat_field running with args (<CubeModel(7, 64, 2048) from jw00042001001_01101_00002-seg021_nrca5_rateints.fits>,).\n",
      "2021-07-26 16:12:07,333 - stpipe.Spec2Pipeline.flat_field - INFO - Step flat_field parameters are: {'pre_hooks': [], 'post_hooks': [], 'output_file': None, 'output_dir': None, 'output_ext': '.fits', 'output_use_model': False, 'output_use_index': True, 'save_results': False, 'skip': False, 'suffix': None, 'search_output_file': True, 'input_dir': 'ex_proc_data', 'save_interpolated_flat': False, 'user_supplied_flat': None, 'inverse': False}\n"
     ]
    },
    {
     "name": "stderr",
     "output_type": "stream",
     "text": [
      "2021-07-26 16:12:07,691 - stpipe.Spec2Pipeline.flat_field - INFO - Extracting matching subarray from flat\n",
      "2021-07-26 16:12:07,731 - stpipe.Spec2Pipeline.flat_field - INFO - Step flat_field done\n",
      "2021-07-26 16:12:07,803 - stpipe.Spec2Pipeline.extract_2d - INFO - Step extract_2d running with args (<CubeModel(7, 64, 2048) from jw00042001001_01101_00002-seg021_nrca5_rateints.fits>,).\n",
      "2021-07-26 16:12:07,805 - stpipe.Spec2Pipeline.extract_2d - INFO - Step extract_2d parameters are: {'pre_hooks': [], 'post_hooks': [], 'output_file': None, 'output_dir': None, 'output_ext': '.fits', 'output_use_model': False, 'output_use_index': True, 'save_results': False, 'skip': False, 'suffix': None, 'search_output_file': True, 'input_dir': 'ex_proc_data', 'slit_name': None, 'extract_orders': None, 'tsgrism_extract_height': None, 'wfss_extract_half_height': 5, 'grism_objects': None, 'mmag_extract': 99.0}\n",
      "2021-07-26 16:12:07,830 - stpipe.Spec2Pipeline.extract_2d - INFO - EXP_TYPE is NRC_TSGRISM\n",
      "2021-07-26 16:12:07,831 - stpipe.Spec2Pipeline.extract_2d - INFO - Setting extraction height to 64\n",
      "2021-07-26 16:12:07,845 - stpipe.Spec2Pipeline.extract_2d - INFO - Using default order extraction from reference file\n",
      "2021-07-26 16:12:07,845 - stpipe.Spec2Pipeline.extract_2d - INFO - Extracting order: [1]\n",
      "2021-07-26 16:12:07,974 - stpipe.Spec2Pipeline.extract_2d - WARNING - /Users/everettschlawin/anaconda/envs/jwst_py3p9p5/lib/python3.9/site-packages/astropy/modeling/math_functions.py:63: AstropyUserWarning: Models in math_functions are experimental.\n",
      "  warnings.warn(\"Models in math_functions are experimental.\", AstropyUserWarning)\n",
      "\n",
      "2021-07-26 16:12:07,981 - stpipe.Spec2Pipeline.extract_2d - INFO - WCS made explicit for order: 1\n",
      "2021-07-26 16:12:07,982 - stpipe.Spec2Pipeline.extract_2d - INFO - Spectral trace extents: (xmin:149, ymin:0), (xmax:1857, ymax:63)\n",
      "2021-07-26 16:12:07,982 - stpipe.Spec2Pipeline.extract_2d - INFO - Extraction limits: (xmin:0, ymin:0), (xmax:2047, ymax:63)\n",
      "2021-07-26 16:12:08,097 - stpipe.Spec2Pipeline.extract_2d - INFO - Finished extraction\n",
      "2021-07-26 16:12:08,100 - stpipe.Spec2Pipeline.extract_2d - INFO - Step extract_2d done\n",
      "2021-07-26 16:12:08,172 - stpipe.Spec2Pipeline.srctype - INFO - Step srctype running with args (<SlitModel(7, 64, 2048) from jw00042001001_01101_00002-seg021_nrca5_rateints.fits>,).\n",
      "2021-07-26 16:12:08,173 - stpipe.Spec2Pipeline.srctype - INFO - Step srctype parameters are: {'pre_hooks': [], 'post_hooks': [], 'output_file': None, 'output_dir': None, 'output_ext': '.fits', 'output_use_model': False, 'output_use_index': True, 'save_results': False, 'skip': False, 'suffix': None, 'search_output_file': True, 'input_dir': 'ex_proc_data'}\n",
      "2021-07-26 16:12:08,246 - stpipe.Spec2Pipeline.srctype - INFO - Input EXP_TYPE is NRC_TSGRISM\n",
      "2021-07-26 16:12:08,247 - stpipe.Spec2Pipeline.srctype - INFO - Input SRCTYAPT = None\n",
      "2021-07-26 16:12:08,247 - stpipe.Spec2Pipeline.srctype - WARNING - SRCTYAPT keyword not found in input; using SRCTYPE instead\n",
      "2021-07-26 16:12:08,248 - stpipe.Spec2Pipeline.srctype - INFO - Input is a TSO exposure; setting SRCTYPE = POINT\n",
      "2021-07-26 16:12:08,252 - stpipe.Spec2Pipeline.srctype - INFO - Step srctype done\n",
      "2021-07-26 16:12:08,314 - stpipe.Spec2Pipeline.straylight - INFO - Step straylight running with args (<SlitModel(7, 64, 2048) from jw00042001001_01101_00002-seg021_nrca5_rateints.fits>,).\n",
      "2021-07-26 16:12:08,316 - stpipe.Spec2Pipeline.straylight - INFO - Step straylight parameters are: {'pre_hooks': [], 'post_hooks': [], 'output_file': None, 'output_dir': None, 'output_ext': '.fits', 'output_use_model': False, 'output_use_index': True, 'save_results': False, 'skip': True, 'suffix': None, 'search_output_file': True, 'input_dir': 'ex_proc_data', 'method': 'ModShepard', 'roi': 50, 'power': 1.0}\n",
      "2021-07-26 16:12:08,316 - stpipe.Spec2Pipeline.straylight - INFO - Step skipped.\n",
      "2021-07-26 16:12:08,318 - stpipe.Spec2Pipeline.straylight - INFO - Step straylight done\n",
      "2021-07-26 16:12:08,375 - stpipe.Spec2Pipeline.fringe - INFO - Step fringe running with args (<SlitModel(7, 64, 2048) from jw00042001001_01101_00002-seg021_nrca5_rateints.fits>,).\n",
      "2021-07-26 16:12:08,377 - stpipe.Spec2Pipeline.fringe - INFO - Step fringe parameters are: {'pre_hooks': [], 'post_hooks': [], 'output_file': None, 'output_dir': None, 'output_ext': '.fits', 'output_use_model': False, 'output_use_index': True, 'save_results': False, 'skip': True, 'suffix': None, 'search_output_file': True, 'input_dir': 'ex_proc_data'}\n",
      "2021-07-26 16:12:08,377 - stpipe.Spec2Pipeline.fringe - INFO - Step skipped.\n",
      "2021-07-26 16:12:08,379 - stpipe.Spec2Pipeline.fringe - INFO - Step fringe done\n",
      "2021-07-26 16:12:08,437 - stpipe.Spec2Pipeline.pathloss - INFO - Step pathloss running with args (<SlitModel(7, 64, 2048) from jw00042001001_01101_00002-seg021_nrca5_rateints.fits>,).\n",
      "2021-07-26 16:12:08,438 - stpipe.Spec2Pipeline.pathloss - INFO - Step pathloss parameters are: {'pre_hooks': [], 'post_hooks': [], 'output_file': None, 'output_dir': None, 'output_ext': '.fits', 'output_use_model': False, 'output_use_index': True, 'save_results': False, 'skip': True, 'suffix': None, 'search_output_file': True, 'input_dir': 'ex_proc_data', 'inverse': False, 'source_type': None}\n",
      "2021-07-26 16:12:08,439 - stpipe.Spec2Pipeline.pathloss - INFO - Step skipped.\n",
      "2021-07-26 16:12:08,440 - stpipe.Spec2Pipeline.pathloss - INFO - Step pathloss done\n",
      "2021-07-26 16:12:08,518 - stpipe.Spec2Pipeline.barshadow - INFO - Step barshadow running with args (<SlitModel(7, 64, 2048) from jw00042001001_01101_00002-seg021_nrca5_rateints.fits>,).\n",
      "2021-07-26 16:12:08,520 - stpipe.Spec2Pipeline.barshadow - INFO - Step barshadow parameters are: {'pre_hooks': [], 'post_hooks': [], 'output_file': None, 'output_dir': None, 'output_ext': '.fits', 'output_use_model': False, 'output_use_index': True, 'save_results': False, 'skip': True, 'suffix': None, 'search_output_file': True, 'input_dir': 'ex_proc_data', 'inverse': False, 'source_type': None}\n",
      "2021-07-26 16:12:08,521 - stpipe.Spec2Pipeline.barshadow - INFO - Step skipped.\n",
      "2021-07-26 16:12:08,522 - stpipe.Spec2Pipeline.barshadow - INFO - Step barshadow done\n",
      "2021-07-26 16:12:08,589 - stpipe.Spec2Pipeline.photom - INFO - Step photom running with args (<SlitModel(7, 64, 2048) from jw00042001001_01101_00002-seg021_nrca5_rateints.fits>,).\n",
      "2021-07-26 16:12:08,590 - stpipe.Spec2Pipeline.photom - INFO - Step photom parameters are: {'pre_hooks': [], 'post_hooks': [], 'output_file': None, 'output_dir': None, 'output_ext': '.fits', 'output_use_model': False, 'output_use_index': True, 'save_results': False, 'skip': False, 'suffix': None, 'search_output_file': True, 'input_dir': 'ex_proc_data', 'inverse': False, 'source_type': None}\n",
      "2021-07-26 16:12:08,817 - stpipe.Spec2Pipeline.photom - INFO - Using photom reference file: /Users/everettschlawin/crds_cache/references/jwst/nircam/jwst_nircam_photom_0094.fits\n",
      "2021-07-26 16:12:08,817 - stpipe.Spec2Pipeline.photom - INFO - Using area reference file: N/A\n",
      "2021-07-26 16:12:08,973 - stpipe.Spec2Pipeline.photom - INFO - Using instrument: NIRCAM\n",
      "2021-07-26 16:12:08,974 - stpipe.Spec2Pipeline.photom - INFO -  detector: NRCALONG\n",
      "2021-07-26 16:12:08,975 - stpipe.Spec2Pipeline.photom - INFO -  exp_type: NRC_TSGRISM\n",
      "2021-07-26 16:12:08,975 - stpipe.Spec2Pipeline.photom - INFO -  filter: F322W2\n",
      "2021-07-26 16:12:08,976 - stpipe.Spec2Pipeline.photom - INFO -  pupil: GRISMR\n",
      "2021-07-26 16:12:09,007 - stpipe.Spec2Pipeline.photom - INFO - PHOTMJSR value: 527.512\n",
      "2021-07-26 16:12:09,028 - stpipe.Spec2Pipeline.photom - INFO - Step photom done\n",
      "2021-07-26 16:12:09,116 - stpipe.Spec2Pipeline.extract_1d - INFO - Step extract_1d running with args (<SlitModel(7, 64, 2048) from ex_proc_data/jw00042001001_01101_00002-seg021_nrca5_calints.fits>,).\n",
      "2021-07-26 16:12:09,118 - stpipe.Spec2Pipeline.extract_1d - INFO - Step extract_1d parameters are: {'pre_hooks': [], 'post_hooks': [], 'output_file': None, 'output_dir': None, 'output_ext': '.fits', 'output_use_model': False, 'output_use_index': True, 'save_results': True, 'skip': False, 'suffix': 'x1dints', 'search_output_file': True, 'input_dir': 'ex_proc_data', 'smoothing_length': None, 'bkg_fit': 'poly', 'bkg_order': None, 'bkg_sigma_clip': 3.0, 'log_increment': 50, 'subtract_background': None, 'use_source_posn': None, 'apply_apcorr': True}\n"
     ]
    },
    {
     "name": "stderr",
     "output_type": "stream",
     "text": [
      "2021-07-26 16:12:09,253 - stpipe.Spec2Pipeline.extract_1d - INFO - Using EXTRACT1D reference file N/A\n",
      "2021-07-26 16:12:09,325 - stpipe.Spec2Pipeline.extract_1d - INFO - APCORR reference file name is \"N/A\"\n",
      "2021-07-26 16:12:09,326 - stpipe.Spec2Pipeline.extract_1d - INFO - APCORR will NOT be applied\n",
      "2021-07-26 16:12:09,363 - stpipe.Spec2Pipeline.extract_1d - INFO - Processing spectral order 1\n",
      "2021-07-26 16:12:09,364 - stpipe.Spec2Pipeline.extract_1d - INFO - Beginning loop over 7 integrations ...\n",
      "2021-07-26 16:12:09,367 - stpipe.Spec2Pipeline.extract_1d - INFO - Using extraction limits: \n",
      "2021-07-26 16:12:09,368 - stpipe.Spec2Pipeline.extract_1d - INFO - xstart=0, xstop=2047, ystart=0, ystop=63\n",
      "2021-07-26 16:12:10,621 - stpipe.Spec2Pipeline.extract_1d - INFO - All 7 integrations done\n",
      "2021-07-26 16:12:10,878 - stpipe.Spec2Pipeline.extract_1d - INFO - Saved model in ex_proc_data/jw00042001001_01101_00002-seg021_nrca5_x1dints.fits\n",
      "2021-07-26 16:12:10,878 - stpipe.Spec2Pipeline.extract_1d - INFO - Step extract_1d done\n",
      "2021-07-26 16:12:10,879 - stpipe.Spec2Pipeline - INFO - Finished processing product ex_proc_data/jw00042001001_01101_00002-seg021_nrca5\n",
      "2021-07-26 16:12:10,879 - stpipe.Spec2Pipeline - INFO - Ending calwebb_spec2\n",
      "2021-07-26 16:12:11,144 - stpipe.Spec2Pipeline - INFO - Saved model in ex_proc_data/jw00042001001_01101_00002-seg021_nrca5_calints.fits\n",
      "2021-07-26 16:12:11,145 - stpipe.Spec2Pipeline - INFO - Step Spec2Pipeline done\n"
     ]
    }
   ],
   "source": [
    "result2 = Spec2Pipeline()\n",
    "result2.save_results = True\n",
    "result2.output_dir = out_path\n",
    "\n",
    "for one_file in rateints_list:\n",
    "    result2.run(one_file)\n"
   ]
  },
  {
   "cell_type": "code",
   "execution_count": null,
   "id": "ffaa6c6d",
   "metadata": {},
   "outputs": [],
   "source": []
  }
 ],
 "metadata": {
  "kernelspec": {
   "display_name": "Python 3",
   "language": "python",
   "name": "python3"
  },
  "language_info": {
   "codemirror_mode": {
    "name": "ipython",
    "version": 3
   },
   "file_extension": ".py",
   "mimetype": "text/x-python",
   "name": "python",
   "nbconvert_exporter": "python",
   "pygments_lexer": "ipython3",
   "version": "3.9.5"
  }
 },
 "nbformat": 4,
 "nbformat_minor": 5
}
